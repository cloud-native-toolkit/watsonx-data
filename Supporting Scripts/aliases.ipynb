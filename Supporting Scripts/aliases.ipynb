{
 "cells": [
  {
   "cell_type": "code",
   "execution_count": 1,
   "id": "749d24a3",
   "metadata": {},
   "outputs": [],
   "source": [
    "%alias docker docker\n",
    "%alias docker-compose docker-compose\n",
    "%alias stop_service stop_service\n",
    "%alias start_service start_service\n",
    "%alias status status\n",
    "%alias stop stop\n",
    "%alias start start"
   ]
  },
  {
   "cell_type": "code",
   "execution_count": 2,
   "id": "675db3b8",
   "metadata": {},
   "outputs": [],
   "source": [
    "from IPython.core.magic import (register_line_magic, register_cell_magic,\n",
    "                                register_line_cell_magic)\n",
    "import subprocess, os\n",
    "\n",
    "@register_line_cell_magic\n",
    "def presto(line,cell):\n",
    "  args=line.split(' ')\n",
    "  cell=cell.replace('\\n',' ')\n",
    "  if len(args)==1 and args[0]=='':\n",
    "    subprocess.run('presto-run <<<'+'\"'+cell+'\"',shell=True)\n",
    "  elif len(args)==1 and args[0]!='':\n",
    "    subprocess.run('presto-run --catalog '+args[0]+'<<<'+'\"'+cell+'\"',shell=True)\n",
    "  else:\n",
    "    subprocess.run('presto-run --catalog '+args[0]+' --schema '+args[1]+'<<<'+'\"'+cell+'\"',shell=True)"
   ]
  },
  {
   "cell_type": "code",
   "execution_count": null,
   "id": "be0d640b",
   "metadata": {},
   "outputs": [],
   "source": []
  }
 ],
 "metadata": {
  "kernelspec": {
   "display_name": "Python 3 (ipykernel)",
   "language": "python",
   "name": "python3"
  },
  "language_info": {
   "codemirror_mode": {
    "name": "ipython",
    "version": 3
   },
   "file_extension": ".py",
   "mimetype": "text/x-python",
   "name": "python",
   "nbconvert_exporter": "python",
   "pygments_lexer": "ipython3",
   "version": "3.9.16"
  }
 },
 "nbformat": 4,
 "nbformat_minor": 5
}
