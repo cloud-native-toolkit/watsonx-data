{
 "cells": [
  {
   "cell_type": "code",
   "execution_count": 1,
   "id": "ec248619",
   "metadata": {},
   "outputs": [],
   "source": [
    "%run aliases.ipynb"
   ]
  },
  {
   "cell_type": "code",
   "execution_count": 2,
   "id": "7f5424d5",
   "metadata": {},
   "outputs": [
    {
     "name": "stderr",
     "output_type": "stream",
     "text": [
      "Emulate Docker CLI using podman. Create /etc/containers/nodocker to quiet msg.\n",
      "Emulate Docker CLI using podman. Create /etc/containers/nodocker to quiet msg.\n"
     ]
    },
    {
     "name": "stdout",
     "output_type": "stream",
     "text": [
      "presto> show catalogs; \n",
      "   Catalog    \n",
      "--------------\n",
      " db2db        \n",
      " hive_data    \n",
      " iceberg_data \n",
      " jmx          \n",
      " kafkadb      \n",
      " nzdemodb     \n",
      " pgdatadb     \n",
      " system       \n",
      " tpcds        \n",
      " tpch         \n",
      "(10 rows)\n",
      "\n",
      "Query 20230821_130910_00352_egdc7, FINISHED, 1 node\n",
      "Splits: 19 total, 19 done (100.00%)\n",
      "0:01 [0 rows, 0B] [0 rows/s, 0B/s]\n",
      "\n",
      "presto> \n"
     ]
    }
   ],
   "source": [
    "%%presto\n",
    "show catalogs;"
   ]
  },
  {
   "cell_type": "code",
   "execution_count": 3,
   "id": "0332d03a",
   "metadata": {},
   "outputs": [
    {
     "name": "stderr",
     "output_type": "stream",
     "text": [
      "Emulate Docker CLI using podman. Create /etc/containers/nodocker to quiet msg.\n",
      "Emulate Docker CLI using podman. Create /etc/containers/nodocker to quiet msg.\n"
     ]
    },
    {
     "name": "stdout",
     "output_type": "stream",
     "text": [
      "presto> show schemas; \n",
      "  Schema  \n",
      "----------\n",
      " banking  \n",
      " fintech  \n",
      " workshop \n",
      "(3 rows)\n",
      "\n",
      "Query 20230821_130915_00353_egdc7, FINISHED, 1 node\n",
      "Splits: 19 total, 19 done (100.00%)\n",
      "0:01 [3 rows, 37B] [3 rows/s, 41B/s]\n",
      "\n",
      "presto> \n"
     ]
    }
   ],
   "source": [
    "%%presto iceberg_data\n",
    "show schemas;"
   ]
  },
  {
   "cell_type": "code",
   "execution_count": 4,
   "id": "7d7dfc8c",
   "metadata": {},
   "outputs": [
    {
     "name": "stderr",
     "output_type": "stream",
     "text": [
      "Emulate Docker CLI using podman. Create /etc/containers/nodocker to quiet msg.\n",
      "Emulate Docker CLI using podman. Create /etc/containers/nodocker to quiet msg.\n"
     ]
    },
    {
     "name": "stdout",
     "output_type": "stream",
     "text": [
      "presto> CREATE SCHEMA IF NOT EXISTS retail  with (location='s3a://iceberg-bucket/'); \n",
      "CREATE SCHEMA\n",
      "presto> \n"
     ]
    }
   ],
   "source": [
    "%%presto iceberg_data\n",
    "CREATE SCHEMA IF NOT EXISTS retail \n",
    "with (location='s3a://iceberg-bucket/');"
   ]
  },
  {
   "cell_type": "code",
   "execution_count": 5,
   "id": "d10240f1",
   "metadata": {},
   "outputs": [
    {
     "name": "stderr",
     "output_type": "stream",
     "text": [
      "Emulate Docker CLI using podman. Create /etc/containers/nodocker to quiet msg.\n",
      "Emulate Docker CLI using podman. Create /etc/containers/nodocker to quiet msg.\n"
     ]
    },
    {
     "name": "stdout",
     "output_type": "stream",
     "text": [
      "presto> show schemas; \n",
      "  Schema  \n",
      "----------\n",
      " banking  \n",
      " fintech  \n",
      " retail   \n",
      " workshop \n",
      "(4 rows)\n",
      "\n",
      "Query 20230821_130924_00355_egdc7, FINISHED, 1 node\n",
      "Splits: 19 total, 19 done (100.00%)\n",
      "0:01 [4 rows, 48B] [3 rows/s, 47B/s]\n",
      "\n",
      "presto> \n"
     ]
    }
   ],
   "source": [
    "%%presto iceberg_data\n",
    "show schemas;"
   ]
  },
  {
   "cell_type": "code",
   "execution_count": 6,
   "id": "742ba5e3",
   "metadata": {},
   "outputs": [
    {
     "name": "stderr",
     "output_type": "stream",
     "text": [
      "Emulate Docker CLI using podman. Create /etc/containers/nodocker to quiet msg.\n",
      "Emulate Docker CLI using podman. Create /etc/containers/nodocker to quiet msg.\n"
     ]
    },
    {
     "name": "stdout",
     "output_type": "stream",
     "text": [
      "presto:retail> drop table if exists customer;  create table customer as  select * from tpch.tiny.customer order by custkey limit 20; \n",
      "DROP TABLE\n",
      "CREATE TABLE: 20 rows\n",
      "\n",
      "Query 20230821_130930_00358_egdc7, FINISHED, 1 node\n",
      "Splits: 39 total, 39 done (100.00%)\n",
      "0:01 [1.5K rows, 0B] [1.23K rows/s, 0B/s]\n",
      "\n",
      "presto:retail> \n"
     ]
    }
   ],
   "source": [
    "%%presto iceberg_data retail\n",
    "drop table if exists customer; \n",
    "create table customer as \n",
    "select * from tpch.tiny.customer order by custkey limit 20;"
   ]
  },
  {
   "cell_type": "code",
   "execution_count": 7,
   "id": "85db274e",
   "metadata": {},
   "outputs": [
    {
     "name": "stderr",
     "output_type": "stream",
     "text": [
      "Emulate Docker CLI using podman. Create /etc/containers/nodocker to quiet msg.\n",
      "Emulate Docker CLI using podman. Create /etc/containers/nodocker to quiet msg.\n"
     ]
    },
    {
     "name": "stdout",
     "output_type": "stream",
     "text": [
      "presto:retail> show tables; describe customer; \n",
      "  Table   \n",
      "----------\n",
      " customer \n",
      "(1 row)\n",
      "\n",
      "Query 20230821_130935_00360_egdc7, FINISHED, 1 node\n",
      "Splits: 19 total, 19 done (100.00%)\n",
      "0:01 [1 rows, 24B] [0 rows/s, 21B/s]\n",
      "\n",
      "   Column   |  Type   | Extra | Comment \n",
      "------------+---------+-------+---------\n",
      " custkey    | bigint  |       |         \n",
      " name       | varchar |       |         \n",
      " address    | varchar |       |         \n",
      " nationkey  | bigint  |       |         \n",
      " phone      | varchar |       |         \n",
      " acctbal    | double  |       |         \n",
      " mktsegment | varchar |       |         \n",
      " comment    | varchar |       |         \n",
      "(8 rows)\n",
      "\n",
      "Query 20230821_130936_00361_egdc7, FINISHED, 1 node\n",
      "Splits: 19 total, 19 done (100.00%)\n",
      "0:02 [8 rows, 533B] [3 rows/s, 257B/s]\n",
      "\n",
      "presto:retail> \n"
     ]
    }
   ],
   "source": [
    "%%presto iceberg_data retail\n",
    "show tables;\n",
    "describe customer;"
   ]
  },
  {
   "cell_type": "code",
   "execution_count": 8,
   "id": "f551fd13",
   "metadata": {},
   "outputs": [
    {
     "name": "stderr",
     "output_type": "stream",
     "text": [
      "Emulate Docker CLI using podman. Create /etc/containers/nodocker to quiet msg.\n",
      "Emulate Docker CLI using podman. Create /etc/containers/nodocker to quiet msg.\n"
     ]
    },
    {
     "name": "stdout",
     "output_type": "stream",
     "text": [
      "presto:retail> select count(*) from customer; \n",
      " _col0 \n",
      "-------\n",
      "    20 \n",
      "(1 row)\n",
      "\n",
      "Query 20230821_130942_00363_egdc7, FINISHED, 1 node\n",
      "Splits: 18 total, 18 done (100.00%)\n",
      "0:01 [20 rows, 2.86KB] [18 rows/s, 2.6KB/s]\n",
      "\n",
      "presto:retail> \n"
     ]
    }
   ],
   "source": [
    "%%presto iceberg_data retail\n",
    "select count(*) from customer;"
   ]
  },
  {
   "cell_type": "code",
   "execution_count": 9,
   "id": "67f97a4d",
   "metadata": {},
   "outputs": [
    {
     "name": "stderr",
     "output_type": "stream",
     "text": [
      "Emulate Docker CLI using podman. Create /etc/containers/nodocker to quiet msg.\n",
      "Emulate Docker CLI using podman. Create /etc/containers/nodocker to quiet msg.\n"
     ]
    },
    {
     "name": "stdout",
     "output_type": "stream",
     "text": [
      "presto> show schemas; show tables from tpch; \n",
      " Schema 230821_130947_00365_egdc7 [RUNNING] i[0 0B 0B] o[0 0B 0B] splits[0/19/0]\n",
      "--------\n",
      " tpch   \n",
      "(1 row)\n",
      "\n",
      "Query 20230821_130947_00365_egdc7, FINISHED, 1 node\n",
      "Splits: 19 total, 19 done (100.00%)\n",
      "0:16 [1 rows, 9B] [0 rows/s, 0B/s]\n",
      "\n",
      " Table  \n",
      "--------\n",
      " orders \n",
      "(1 row)\n",
      "\n",
      "Query 20230821_131004_00366_egdc7, FINISHED, 1 node\n",
      "Splits: 19 total, 19 done (100.00%)\n",
      "0:01 [1 rows, 20B] [1 rows/s, 28B/s]\n",
      "\n",
      "presto> \n"
     ]
    }
   ],
   "source": [
    "%%presto kafkadb\n",
    "show schemas;\n",
    "show tables from tpch;"
   ]
  },
  {
   "cell_type": "code",
   "execution_count": 10,
   "id": "823064bb",
   "metadata": {},
   "outputs": [
    {
     "name": "stderr",
     "output_type": "stream",
     "text": [
      "Emulate Docker CLI using podman. Create /etc/containers/nodocker to quiet msg.\n",
      "Emulate Docker CLI using podman. Create /etc/containers/nodocker to quiet msg.\n"
     ]
    },
    {
     "name": "stdout",
     "output_type": "stream",
     "text": [
      "presto:tpch> select _message from orders limit 10; \n",
      "            _message             \n",
      "---------------------------------\n",
      " {\"custkey\":17,\"price\":-123.94 } \n",
      " {\"custkey\":16,\"price\":-484.89 } \n",
      " {\"custkey\":2,\"price\":-311.45 }  \n",
      " {\"custkey\":12,\"price\":-352.56 } \n",
      " {\"custkey\":9,\"price\":-274.92 }  \n",
      " {\"custkey\":4,\"price\":76.03 }    \n",
      " {\"custkey\":5,\"price\":-401.45 }  \n",
      " {\"custkey\":15,\"price\":-145.19 } \n",
      " {\"custkey\":19,\"price\":156.37 }  \n",
      " {\"custkey\":7,\"price\":-441.82 }  \n",
      "(10 rows)\n",
      "\n",
      "Query 20230821_131008_00368_egdc7, FINISHED, 1 node\n",
      "Splits: 18 total, 18 done (100.00%)\n",
      "0:01 [20 rows, 604B] [26 rows/s, 806B/s]\n",
      "\n",
      "presto:tpch> \n"
     ]
    }
   ],
   "source": [
    "%%presto kafkadb tpch\n",
    "select _message from orders limit 10;"
   ]
  },
  {
   "cell_type": "code",
   "execution_count": 11,
   "id": "491c863a",
   "metadata": {},
   "outputs": [
    {
     "name": "stderr",
     "output_type": "stream",
     "text": [
      "Emulate Docker CLI using podman. Create /etc/containers/nodocker to quiet msg.\n",
      "Emulate Docker CLI using podman. Create /etc/containers/nodocker to quiet msg.\n"
     ]
    },
    {
     "name": "stdout",
     "output_type": "stream",
     "text": [
      "presto:tpch> with t1 as (   SELECT cast(json_extract(_message,'$.custkey') as int) custkey,          cast(json_extract(_message,'$.price') as real) price   FROM orders), t2 as (   SELECT * FROM iceberg_data.retail.customer ) SELECT t2.name,t2.mktsegment,t1.price FROM t1 JOIN t2 ON t1.custkey=t2.custkey limit 10 ; \n",
      "Query 20230821_131018_00370_egdc7 [WAITING_FOR_PREREQUISITES] i[0 0B 0B] o[0 0B 0B] splits[0/0/0]        name        | mktsegment |  price  \n",
      "--------------------+------------+---------\n",
      " Customer#000000017 | AUTOMOBILE | -123.94 \n",
      " Customer#000000016 | FURNITURE  | -484.89 \n",
      " Customer#000000002 | AUTOMOBILE | -311.45 \n",
      " Customer#000000012 | HOUSEHOLD  | -352.56 \n",
      " Customer#000000009 | FURNITURE  | -274.92 \n",
      " Customer#000000004 | MACHINERY  |   76.03 \n",
      " Customer#000000005 | HOUSEHOLD  | -401.45 \n",
      " Customer#000000015 | HOUSEHOLD  | -145.19 \n",
      " Customer#000000019 | HOUSEHOLD  |  156.37 \n",
      " Customer#000000007 | AUTOMOBILE | -441.82 \n",
      "(10 rows)\n",
      "\n",
      "Query 20230821_131018_00370_egdc7, FINISHED, 1 node\n",
      "Splits: 51 total, 51 done (100.00%)\n",
      "0:02 [40 rows, 3.75KB] [24 rows/s, 2.29KB/s]\n",
      "\n",
      "presto:tpch> \n"
     ]
    }
   ],
   "source": [
    "%%presto kafkadb tpch\n",
    "with\n",
    "t1 as (\n",
    "  SELECT cast(json_extract(_message,'$.custkey') as int) custkey,\n",
    "         cast(json_extract(_message,'$.price') as real) price\n",
    "  FROM orders),\n",
    "t2 as (\n",
    "  SELECT * FROM iceberg_data.retail.customer\n",
    ")\n",
    "SELECT t2.name,t2.mktsegment,t1.price FROM t1 JOIN t2 ON t1.custkey=t2.custkey limit 10\n",
    ";"
   ]
  },
  {
   "cell_type": "code",
   "execution_count": 12,
   "id": "81144bf3",
   "metadata": {},
   "outputs": [],
   "source": [
    "import prestodb\n",
    "import pandas as pd\n",
    "import warnings\n",
    "\n",
    "conn=prestodb.dbapi.connect(\n",
    "    host='169.60.148.131',\n",
    "    port=8443,\n",
    "    catalog='kafkadb',\n",
    "    user='ibmlhadmin',\n",
    "    schema='tpch',\n",
    "    http_scheme='https',\n",
    "    auth=prestodb.auth.BasicAuthentication(\"ibmlhadmin\", \"password\"),\n",
    ")\n",
    "    \n",
    "conn._http_session.verify = False\n",
    "cur = conn.cursor()\n",
    "stmt=\"with \\\n",
    "  t1 as ( \\\n",
    "    SELECT cast(json_extract(_message,'$.custkey') as int) custkey, \\\n",
    "          cast(json_extract(_message,'$.price') as real) price \\\n",
    "    FROM kafkadb.tpch.orders), \\\n",
    "  t2 as ( \\\n",
    "    SELECT * FROM iceberg_data.workshop.customer \\\n",
    "  ) \\\n",
    "  SELECT t2.mktsegment,avg(t1.price) \\\n",
    "  FROM t1 JOIN t2 \\\n",
    "  ON t1.custkey=t2.custkey \\\n",
    "  GROUP BY 1 ORDER BY 1\""
   ]
  },
  {
   "cell_type": "code",
   "execution_count": 13,
   "id": "331648ac",
   "metadata": {
    "scrolled": true
   },
   "outputs": [
    {
     "data": {
      "image/png": "[encoded data removed]",
      "text/plain": [
       "<Figure size 640x480 with 1 Axes>"
      ]
     },
     "metadata": {},
     "output_type": "display_data"
    }
   ],
   "source": [
    "with warnings.catch_warnings():\n",
    "  warnings.simplefilter('ignore')\n",
    "    \n",
    "  cur.execute(stmt)\n",
    "  rows = cur.fetchall()\n",
    "  df = pd.DataFrame(rows,columns=['MktSegment','Balance'])\n",
    "  df.plot(x=\"MktSegment\", y=['Balance' ], kind=\"bar\",color = ['green'])"
   ]
  },
  {
   "cell_type": "code",
   "execution_count": 14,
   "id": "408b4aae",
   "metadata": {},
   "outputs": [
    {
     "data": {
      "text/html": [
       "<div>\n",
       "<style scoped>\n",
       "    .dataframe tbody tr th:only-of-type {\n",
       "        vertical-align: middle;\n",
       "    }\n",
       "\n",
       "    .dataframe tbody tr th {\n",
       "        vertical-align: top;\n",
       "    }\n",
       "\n",
       "    .dataframe thead th {\n",
       "        text-align: right;\n",
       "    }\n",
       "</style>\n",
       "<table border=\"1\" class=\"dataframe\">\n",
       "  <thead>\n",
       "    <tr style=\"text-align: right;\">\n",
       "      <th></th>\n",
       "      <th>MktSegment</th>\n",
       "      <th>Balance</th>\n",
       "    </tr>\n",
       "  </thead>\n",
       "  <tbody>\n",
       "    <tr>\n",
       "      <th>0</th>\n",
       "      <td>AUTOMOBILE</td>\n",
       "      <td>-315.65335</td>\n",
       "    </tr>\n",
       "    <tr>\n",
       "      <th>1</th>\n",
       "      <td>BUILDING</td>\n",
       "      <td>48.86500</td>\n",
       "    </tr>\n",
       "    <tr>\n",
       "      <th>2</th>\n",
       "      <td>FURNITURE</td>\n",
       "      <td>-299.15002</td>\n",
       "    </tr>\n",
       "    <tr>\n",
       "      <th>3</th>\n",
       "      <td>HOUSEHOLD</td>\n",
       "      <td>-177.37857</td>\n",
       "    </tr>\n",
       "    <tr>\n",
       "      <th>4</th>\n",
       "      <td>MACHINERY</td>\n",
       "      <td>-149.35000</td>\n",
       "    </tr>\n",
       "  </tbody>\n",
       "</table>\n",
       "</div>"
      ],
      "text/plain": [
       "   MktSegment    Balance\n",
       "0  AUTOMOBILE -315.65335\n",
       "1    BUILDING   48.86500\n",
       "2   FURNITURE -299.15002\n",
       "3   HOUSEHOLD -177.37857\n",
       "4   MACHINERY -149.35000"
      ]
     },
     "execution_count": 14,
     "metadata": {},
     "output_type": "execute_result"
    }
   ],
   "source": [
    "with warnings.catch_warnings():\n",
    "  warnings.simplefilter('ignore')\n",
    "\n",
    "  cur.execute(stmt)\n",
    "  rows = cur.fetchall()\n",
    "  df = pd.DataFrame(rows,columns=['MktSegment','Balance'])\n",
    "df"
   ]
  },
  {
   "cell_type": "code",
   "execution_count": 15,
   "id": "d6c1af70",
   "metadata": {},
   "outputs": [
    {
     "name": "stderr",
     "output_type": "stream",
     "text": [
      "Emulate Docker CLI using podman. Create /etc/containers/nodocker to quiet msg.\n",
      "Emulate Docker CLI using podman. Create /etc/containers/nodocker to quiet msg.\n"
     ]
    },
    {
     "name": "stdout",
     "output_type": "stream",
     "text": [
      "presto:retail> insert into customer select * from tpch.tiny.customer limit 20; \n",
      "INSERT: 20 rows\n",
      "\n",
      "Query 20230821_131028_00374_egdc7, FINISHED, 1 node\n",
      "Splits: 39 total, 39 done (100.00%)\n",
      "0:02 [1.5K rows, 0B] [880 rows/s, 0B/s]\n",
      "\n",
      "presto:retail> \n"
     ]
    }
   ],
   "source": [
    "%%presto iceberg_data retail\n",
    "insert into customer select * from tpch.tiny.customer limit 20;"
   ]
  },
  {
   "cell_type": "code",
   "execution_count": 16,
   "id": "c60e4c82",
   "metadata": {},
   "outputs": [
    {
     "name": "stderr",
     "output_type": "stream",
     "text": [
      "Emulate Docker CLI using podman. Create /etc/containers/nodocker to quiet msg.\n",
      "Emulate Docker CLI using podman. Create /etc/containers/nodocker to quiet msg.\n"
     ]
    },
    {
     "name": "stdout",
     "output_type": "stream",
     "text": [
      "presto> SELECT count(*) FROM retail.customer; \n",
      " _col0 \n",
      "-------\n",
      "    40 \n",
      "(1 row)\n",
      "\n",
      "Query 20230821_131034_00377_egdc7, FINISHED, 1 node\n",
      "Splits: 19 total, 19 done (100.00%)\n",
      "0:01 [40 rows, 5.74KB] [51 rows/s, 7.43KB/s]\n",
      "\n",
      "presto> \n"
     ]
    }
   ],
   "source": [
    "%%presto iceberg_data\n",
    "SELECT count(*) FROM retail.customer;"
   ]
  },
  {
   "cell_type": "code",
   "execution_count": 17,
   "id": "f5ef76b2",
   "metadata": {},
   "outputs": [
    {
     "name": "stderr",
     "output_type": "stream",
     "text": [
      "Emulate Docker CLI using podman. Create /etc/containers/nodocker to quiet msg.\n",
      "Emulate Docker CLI using podman. Create /etc/containers/nodocker to quiet msg.\n"
     ]
    },
    {
     "name": "stdout",
     "output_type": "stream",
     "text": [
      "presto> SELECT * FROM retail.\"customer$snapshots\" ORDER BY committed_at; \n",
      "        committed_at         |     snapshot_id     |      parent_id      | operation |                                                manifest_list                                                |                                                                                                             summary                                                                                                             \n",
      "-----------------------------+---------------------+---------------------+-----------+-------------------------------------------------------------------------------------------------------------+---------------------------------------------------------------------------------------------------------------------------------------------------------------------------------------------------------------------------------\n",
      " 2023-08-21 13:09:31.344 UTC | 1408000380840053056 | NULL                | append    | s3a://iceberg-bucket/customer/metadata/snap-1408000380840053056-1-22528304-d1d2-4bcd-9068-840a1e07d65a.avro | {changed-partition-count=1, added-data-files=1, total-equality-deletes=0, added-records=20, total-position-deletes=0, added-files-size=2928, total-delete-files=0, total-files-size=2928, total-records=20, total-data-files=1} \n",
      " 2023-08-21 13:10:29.569 UTC | 6837491818340796149 | 1408000380840053056 | append    | s3a://iceberg-bucket/customer/metadata/snap-6837491818340796149-1-7ce904bb-56f2-4a81-a363-39f0ce2f0db0.avro | {changed-partition-count=1, added-data-files=1, total-equality-deletes=0, added-records=20, total-position-deletes=0, added-files-size=2945, total-delete-files=0, total-files-size=5873, total-records=40, total-data-files=2} \n",
      "(2 rows)\n",
      "\n",
      "Query 20230821_131038_00378_egdc7, FINISHED, 1 node\n",
      "Splits: 19 total, 19 done (100.00%)\n",
      "0:02 [2 rows, 1.03KB] [1 rows/s, 696B/s]\n",
      "\n",
      "presto> \n"
     ]
    }
   ],
   "source": [
    "%%presto iceberg_data\n",
    "SELECT * FROM retail.\\\"customer\\$snapshots\\\" ORDER BY committed_at;"
   ]
  },
  {
   "cell_type": "code",
   "execution_count": 18,
   "id": "b1796619",
   "metadata": {},
   "outputs": [
    {
     "name": "stderr",
     "output_type": "stream",
     "text": [
      "Emulate Docker CLI using podman. Create /etc/containers/nodocker to quiet msg.\n",
      "Emulate Docker CLI using podman. Create /etc/containers/nodocker to quiet msg.\n"
     ]
    },
    {
     "name": "stdout",
     "output_type": "stream",
     "text": [
      "presto> SELECT * FROM retail.\"customer$partitions\"; \n",
      " row_count | file_count | total_size |            custkey             |                            name                            |                          address                           |           nationkey           |                          phone                           |                 acctbal                  |                  mktsegment                   |                          comment                           \n",
      "-----------+------------+------------+--------------------------------+------------------------------------------------------------+------------------------------------------------------------+-------------------------------+----------------------------------------------------------+------------------------------------------+-----------------------------------------------+------------------------------------------------------------\n",
      "        40 |          2 |       5873 | {min=1, max=395, null_count=0} | {min=Customer#0000000, max=Customer#0000004, null_count=0} | {min=133stqM9 LT,a2BS, max=zJvPI24TSPpiFzYg, null_count=0} | {min=1, max=24, null_count=0} | {min=11-719-748-3364, max=34-193-143-1425, null_count=0} | {min=-849.44, max=9931.71, null_count=0} | {min=AUTOMOBILE, max=MACHINERY, null_count=0} | {min= carefully bold , max=to the even, reh, null_count=0} \n",
      "(1 row)\n",
      "\n",
      "Query 20230821_131044_00379_egdc7, FINISHED, 1 node\n",
      "Splits: 17 total, 17 done (100.00%)\n",
      "0:02 [1 rows, 345B] [0 rows/s, 208B/s]\n",
      "\n",
      "presto> \n"
     ]
    }
   ],
   "source": [
    "%%presto iceberg_data\n",
    "SELECT * FROM retail.\\\"customer\\$partitions\\\";"
   ]
  },
  {
   "cell_type": "code",
   "execution_count": 19,
   "id": "576c6d0c",
   "metadata": {},
   "outputs": [
    {
     "name": "stderr",
     "output_type": "stream",
     "text": [
      "Emulate Docker CLI using podman. Create /etc/containers/nodocker to quiet msg.\n",
      "Emulate Docker CLI using podman. Create /etc/containers/nodocker to quiet msg.\n"
     ]
    },
    {
     "name": "stdout",
     "output_type": "stream",
     "text": [
      "presto> SELECT * FROM retail.\"customer$manifests\"; \n",
      "                                        path                                         | length | partition_spec_id |  added_snapshot_id  | added_data_files_count | existing_data_files_count | deleted_data_files_count | partitions \n",
      "-------------------------------------------------------------------------------------+--------+-------------------+---------------------+------------------------+---------------------------+--------------------------+------------\n",
      " s3a://iceberg-bucket/customer/metadata/7ce904bb-56f2-4a81-a363-39f0ce2f0db0-m0.avro |   6329 |                 0 | 6837491818340796149 |                      1 |                         0 |                        0 | []         \n",
      " s3a://iceberg-bucket/customer/metadata/22528304-d1d2-4bcd-9068-840a1e07d65a-m0.avro |   6323 |                 0 | 1408000380840053056 |                      1 |                         0 |                        0 | []         \n",
      "(2 rows)\n",
      "\n",
      "Query 20230821_131050_00380_egdc7, FINISHED, 1 node\n",
      "Splits: 17 total, 17 done (100.00%)\n",
      "0:01 [2 rows, 264B] [1 rows/s, 202B/s]\n",
      "\n",
      "presto> \n"
     ]
    }
   ],
   "source": [
    "%%presto iceberg_data\n",
    "SELECT * FROM retail.\\\"customer\\$manifests\\\";"
   ]
  },
  {
   "cell_type": "code",
   "execution_count": 20,
   "id": "062d0497",
   "metadata": {},
   "outputs": [
    {
     "name": "stderr",
     "output_type": "stream",
     "text": [
      "Emulate Docker CLI using podman. Create /etc/containers/nodocker to quiet msg.\n",
      "Emulate Docker CLI using podman. Create /etc/containers/nodocker to quiet msg.\n"
     ]
    },
    {
     "name": "stdout",
     "output_type": "stream",
     "text": [
      "presto> SELECT * FROM retail.\"customer$files\"; \n",
      " content |                                    file_path                                    | file_format | record_count | file_size_in_bytes |                      column_sizes                       |                   value_counts                   |            null_value_counts             | nan_value_counts |                                                     lower_bounds                                                     |                                                     upper_bounds                                                     | key_metadata | split_offsets | equality_ids \n",
      "---------+---------------------------------------------------------------------------------+-------------+--------------+--------------------+---------------------------------------------------------+--------------------------------------------------+------------------------------------------+------------------+----------------------------------------------------------------------------------------------------------------------+----------------------------------------------------------------------------------------------------------------------+--------------+---------------+--------------\n",
      "       0 | s3a://iceberg-bucket/customer/data/fcab4576-4ad8-481b-8c61-6f89ded7ea63.parquet | PARQUET     |           20 |               2945 | {1=53, 2=120, 3=512, 4=134, 5=240, 6=190, 7=147, 8=672} | {1=20, 2=20, 3=20, 4=20, 5=20, 6=20, 7=20, 8=20} | {1=0, 2=0, 3=0, 4=0, 5=0, 6=0, 7=0, 8=0} | {}               | {1=376, 2=Customer#0000003, 3=133stqM9 LT,a2BS, 4=2, 5=12-868-920-9034, 6=-849.44, 7=AUTOMOBILE, 8= carefully bold } | {1=395, 2=Customer#0000004, 3=zJvPI24TSPpiFzYg, 4=24, 5=34-193-143-1425, 6=9931.71, 7=MACHINERY, 8=t regular, bold!} | NULL         | NULL          | NULL         \n",
      "       0 | s3a://iceberg-bucket/customer/data/d73fc0a8-a2ad-4cec-ab8e-558ccf0d29f0.parquet | PARQUET     |           20 |               2928 | {1=52, 2=110, 3=503, 4=129, 5=236, 6=181, 7=147, 8=660} | {1=20, 2=20, 3=20, 4=20, 5=20, 6=20, 7=20, 8=20} | {1=0, 2=0, 3=0, 4=0, 5=0, 6=0, 7=0, 8=0} | {}               | {1=1, 2=Customer#0000000, 3=3txGO AiuFux3zT0, 4=1, 5=11-719-748-3364, 6=-272.6, 7=AUTOMOBILE, 8= deposits eat sl}    | {1=20, 2=Customer#0000001, 3=xKiAFTjUsCuxfelf, 4=23, 5=33-687-542-7601, 6=9561.95, 7=MACHINERY, 8=to the even, reh}  | NULL         | NULL          | NULL         \n",
      "(2 rows)\n",
      "\n",
      "Query 20230821_131055_00381_egdc7, FINISHED, 1 node\n",
      "Splits: 17 total, 17 done (100.00%)\n",
      "0:02 [2 rows, 2.27KB] [1 rows/s, 1.27KB/s]\n",
      "\n",
      "presto> \n"
     ]
    }
   ],
   "source": [
    "%%presto iceberg_data\n",
    "SELECT * FROM retail.\\\"customer\\$files\\\";"
   ]
  },
  {
   "cell_type": "code",
   "execution_count": 21,
   "id": "3f68233f",
   "metadata": {},
   "outputs": [
    {
     "name": "stderr",
     "output_type": "stream",
     "text": [
      "Emulate Docker CLI using podman. Create /etc/containers/nodocker to quiet msg.\n",
      "Emulate Docker CLI using podman. Create /etc/containers/nodocker to quiet msg.\n"
     ]
    },
    {
     "name": "stdout",
     "output_type": "stream",
     "text": [
      "presto> SELECT * FROM retail.\"customer$snapshots\" ORDER BY committed_at; \n",
      "Query 20230821_131100_00382_egdc7 [WAITING_FOR_PREREQUISITES] i[0 0B 0B] o[0 0B 0B] splits[0/0/0]        committed_at         |     snapshot_id     |      parent_id      | operation |                                                manifest_list                                                |                                                                                                             summary                                                                                                             \n",
      "-----------------------------+---------------------+---------------------+-----------+-------------------------------------------------------------------------------------------------------------+---------------------------------------------------------------------------------------------------------------------------------------------------------------------------------------------------------------------------------\n",
      " 2023-08-21 13:09:31.344 UTC | 1408000380840053056 | NULL                | append    | s3a://iceberg-bucket/customer/metadata/snap-1408000380840053056-1-22528304-d1d2-4bcd-9068-840a1e07d65a.avro | {changed-partition-count=1, added-data-files=1, total-equality-deletes=0, added-records=20, total-position-deletes=0, added-files-size=2928, total-delete-files=0, total-files-size=2928, total-records=20, total-data-files=1} \n",
      " 2023-08-21 13:10:29.569 UTC | 6837491818340796149 | 1408000380840053056 | append    | s3a://iceberg-bucket/customer/metadata/snap-6837491818340796149-1-7ce904bb-56f2-4a81-a363-39f0ce2f0db0.avro | {changed-partition-count=1, added-data-files=1, total-equality-deletes=0, added-records=20, total-position-deletes=0, added-files-size=2945, total-delete-files=0, total-files-size=5873, total-records=40, total-data-files=2} \n",
      "(2 rows)\n",
      "\n",
      "Query 20230821_131100_00382_egdc7, FINISHED, 1 node\n",
      "Splits: 19 total, 19 done (100.00%)\n",
      "0:02 [2 rows, 1.03KB] [1 rows/s, 673B/s]\n",
      "\n",
      "presto> \n"
     ]
    }
   ],
   "source": [
    "%%presto iceberg_data\n",
    "SELECT * FROM retail.\\\"customer\\$snapshots\\\" ORDER BY committed_at;"
   ]
  },
  {
   "cell_type": "code",
   "execution_count": 22,
   "id": "9d04a941",
   "metadata": {},
   "outputs": [
    {
     "name": "stderr",
     "output_type": "stream",
     "text": [
      "Emulate Docker CLI using podman. Create /etc/containers/nodocker to quiet msg.\n",
      "Emulate Docker CLI using podman. Create /etc/containers/nodocker to quiet msg.\n"
     ]
    },
    {
     "name": "stdout",
     "output_type": "stream",
     "text": [
      "presto> CALL iceberg_data.system.rollback_to_snapshot('retail','customer',4018270240758327620); \n",
      "Query 20230821_131106_00383_egdc7 failed: Cannot roll back to unknown snapshot id: 4018270240758327620\n",
      "\n",
      "presto> \n"
     ]
    }
   ],
   "source": [
    "%%presto iceberg_data\n",
    "CALL iceberg_data.system.rollback_to_snapshot('retail','customer',4018270240758327620);"
   ]
  },
  {
   "cell_type": "code",
   "execution_count": 23,
   "id": "d588de02",
   "metadata": {},
   "outputs": [
    {
     "name": "stderr",
     "output_type": "stream",
     "text": [
      "Emulate Docker CLI using podman. Create /etc/containers/nodocker to quiet msg.\n",
      "Emulate Docker CLI using podman. Create /etc/containers/nodocker to quiet msg.\n"
     ]
    },
    {
     "name": "stdout",
     "output_type": "stream",
     "text": [
      "presto:retail> select count(*) from customer; \n",
      " _col0 \n",
      "-------\n",
      "    40 \n",
      "(1 row)\n",
      "\n",
      "Query 20230821_131110_00385_egdc7, FINISHED, 1 node\n",
      "Splits: 19 total, 19 done (100.00%)\n",
      "0:01 [40 rows, 5.74KB] [33 rows/s, 4.8KB/s]\n",
      "\n",
      "presto:retail> \n"
     ]
    }
   ],
   "source": [
    "%%presto iceberg_data retail\n",
    "select count(*) from customer;"
   ]
  },
  {
   "cell_type": "code",
   "execution_count": 24,
   "id": "83d40b30",
   "metadata": {},
   "outputs": [
    {
     "name": "stderr",
     "output_type": "stream",
     "text": [
      "Emulate Docker CLI using podman. Create /etc/containers/nodocker to quiet msg.\n",
      "Emulate Docker CLI using podman. Create /etc/containers/nodocker to quiet msg.\n"
     ]
    },
    {
     "name": "stdout",
     "output_type": "stream",
     "text": [
      "presto> SELECT * FROM retail.\"customer$history\"; \n",
      "       made_current_at       |     snapshot_id     |      parent_id      | is_current_ancestor \n",
      "-----------------------------+---------------------+---------------------+---------------------\n",
      " 2023-08-21 13:09:31.344 UTC | 1408000380840053056 | NULL                | true                \n",
      " 2023-08-21 13:10:29.569 UTC | 6837491818340796149 | 1408000380840053056 | true                \n",
      "(2 rows)\n",
      "\n",
      "Query 20230821_131115_00386_egdc7, FINISHED, 1 node\n",
      "Splits: 17 total, 17 done (100.00%)\n",
      "0:01 [2 rows, 42B] [1 rows/s, 31B/s]\n",
      "\n",
      "presto> \n"
     ]
    }
   ],
   "source": [
    "%%presto iceberg_data\n",
    "SELECT * FROM retail.\\\"customer\\$history\\\";"
   ]
  },
  {
   "cell_type": "code",
   "execution_count": 25,
   "id": "216d2c63",
   "metadata": {},
   "outputs": [
    {
     "name": "stderr",
     "output_type": "stream",
     "text": [
      "Emulate Docker CLI using podman. Create /etc/containers/nodocker to quiet msg.\n",
      "Emulate Docker CLI using podman. Create /etc/containers/nodocker to quiet msg.\n"
     ]
    },
    {
     "name": "stdout",
     "output_type": "stream",
     "text": [
      "presto> drop table if exists retail.customer; drop schema if exists retail; \n",
      "DROP TABLE\n",
      "DROP SCHEMA\n",
      "presto> \n"
     ]
    }
   ],
   "source": [
    "%%presto iceberg_data\n",
    "drop table if exists retail.customer;\n",
    "drop schema if exists retail;"
   ]
  },
  {
   "cell_type": "code",
   "execution_count": null,
   "id": "7c3b2876",
   "metadata": {},
   "outputs": [],
   "source": []
  },
  {
   "cell_type": "code",
   "execution_count": null,
   "id": "ef5480d9",
   "metadata": {},
   "outputs": [],
   "source": []
  },
  {
   "cell_type": "code",
   "execution_count": null,
   "id": "2ba63d46",
   "metadata": {},
   "outputs": [],
   "source": []
  },
  {
   "cell_type": "code",
   "execution_count": null,
   "id": "bcfcb63d",
   "metadata": {},
   "outputs": [],
   "source": []
  }
 ],
 "metadata": {
  "kernelspec": {
   "display_name": "Python 3 (ipykernel)",
   "language": "python",
   "name": "python3"
  },
  "language_info": {
   "codemirror_mode": {
    "name": "ipython",
    "version": 3
   },
   "file_extension": ".py",
   "mimetype": "text/x-python",
   "name": "python",
   "nbconvert_exporter": "python",
   "pygments_lexer": "ipython3",
   "version": "3.9.16"
  }
 },
 "nbformat": 4,
 "nbformat_minor": 5
}
